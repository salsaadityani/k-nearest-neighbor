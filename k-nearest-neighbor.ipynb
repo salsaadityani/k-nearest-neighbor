{
  "nbformat": 4,
  "nbformat_minor": 0,
  "metadata": {
    "colab": {
      "provenance": [],
      "include_colab_link": true
    },
    "kernelspec": {
      "name": "python3",
      "display_name": "Python 3"
    }
  },
  "cells": [
    {
      "cell_type": "markdown",
      "metadata": {
        "id": "view-in-github",
        "colab_type": "text"
      },
      "source": [
        "<a href=\"https://colab.research.google.com/github/salsaadityani/k-nearest-neighbor/blob/main/k-nearest-neighbor.ipynb\" target=\"_parent\"><img src=\"https://colab.research.google.com/assets/colab-badge.svg\" alt=\"Open In Colab\"/></a>"
      ]
    },
    {
      "cell_type": "code",
      "metadata": {
        "id": "srskyAEefs21"
      },
      "source": [
        "import pandas as pd\n",
        "import numpy as np\n",
        "\n",
        "data = pd.read_csv('Diabetes.csv')"
      ],
      "execution_count": null,
      "outputs": []
    },
    {
      "cell_type": "code",
      "metadata": {
        "id": "BVTcqzYxur0Z"
      },
      "source": [
        "#print(data.info())"
      ],
      "execution_count": null,
      "outputs": []
    },
    {
      "cell_type": "code",
      "metadata": {
        "id": "3d4A7tipith4"
      },
      "source": [
        "def emptyCheck(data):\n",
        "  newData = data.dropna(axis=0, how='any')\n",
        "  print(\"Panjang dataframe :\", len(data))\n",
        "  print(\"Panjang dataframe empty value :\", len(newData))\n",
        "  print(\"Jumlah baris setidaknya ada 1 empty value : \", (len(data)-len(newData)))\n",
        "\n",
        "  return newData"
      ],
      "execution_count": null,
      "outputs": []
    },
    {
      "cell_type": "code",
      "metadata": {
        "colab": {
          "base_uri": "https://localhost:8080/",
          "height": 490
        },
        "id": "uW3Keq5iio-X",
        "outputId": "c48b6a72-f071-4b6a-f96f-31134b5e82c1"
      },
      "source": [
        "emptyCheck(data)"
      ],
      "execution_count": null,
      "outputs": [
        {
          "output_type": "stream",
          "text": [
            "Panjang dataframe : 768\n",
            "Panjang dataframe empty value : 768\n",
            "Jumlah baris setidaknya ada 1 empty value :  0\n"
          ],
          "name": "stdout"
        },
        {
          "output_type": "execute_result",
          "data": {
            "text/html": [
              "<div>\n",
              "<style scoped>\n",
              "    .dataframe tbody tr th:only-of-type {\n",
              "        vertical-align: middle;\n",
              "    }\n",
              "\n",
              "    .dataframe tbody tr th {\n",
              "        vertical-align: top;\n",
              "    }\n",
              "\n",
              "    .dataframe thead th {\n",
              "        text-align: right;\n",
              "    }\n",
              "</style>\n",
              "<table border=\"1\" class=\"dataframe\">\n",
              "  <thead>\n",
              "    <tr style=\"text-align: right;\">\n",
              "      <th></th>\n",
              "      <th>Pregnancies</th>\n",
              "      <th>Glucose</th>\n",
              "      <th>BloodPressure</th>\n",
              "      <th>SkinThickness</th>\n",
              "      <th>Insulin</th>\n",
              "      <th>BMI</th>\n",
              "      <th>DiabetesPedigreeFunction</th>\n",
              "      <th>Age</th>\n",
              "      <th>Outcome</th>\n",
              "    </tr>\n",
              "  </thead>\n",
              "  <tbody>\n",
              "    <tr>\n",
              "      <th>0</th>\n",
              "      <td>6</td>\n",
              "      <td>148</td>\n",
              "      <td>72</td>\n",
              "      <td>35</td>\n",
              "      <td>0</td>\n",
              "      <td>33.6</td>\n",
              "      <td>0.627</td>\n",
              "      <td>50</td>\n",
              "      <td>1</td>\n",
              "    </tr>\n",
              "    <tr>\n",
              "      <th>1</th>\n",
              "      <td>1</td>\n",
              "      <td>85</td>\n",
              "      <td>66</td>\n",
              "      <td>29</td>\n",
              "      <td>0</td>\n",
              "      <td>26.6</td>\n",
              "      <td>0.351</td>\n",
              "      <td>31</td>\n",
              "      <td>0</td>\n",
              "    </tr>\n",
              "    <tr>\n",
              "      <th>2</th>\n",
              "      <td>8</td>\n",
              "      <td>183</td>\n",
              "      <td>64</td>\n",
              "      <td>0</td>\n",
              "      <td>0</td>\n",
              "      <td>23.3</td>\n",
              "      <td>0.672</td>\n",
              "      <td>32</td>\n",
              "      <td>1</td>\n",
              "    </tr>\n",
              "    <tr>\n",
              "      <th>3</th>\n",
              "      <td>1</td>\n",
              "      <td>89</td>\n",
              "      <td>66</td>\n",
              "      <td>23</td>\n",
              "      <td>94</td>\n",
              "      <td>28.1</td>\n",
              "      <td>0.167</td>\n",
              "      <td>21</td>\n",
              "      <td>0</td>\n",
              "    </tr>\n",
              "    <tr>\n",
              "      <th>4</th>\n",
              "      <td>0</td>\n",
              "      <td>137</td>\n",
              "      <td>40</td>\n",
              "      <td>35</td>\n",
              "      <td>168</td>\n",
              "      <td>43.1</td>\n",
              "      <td>2.288</td>\n",
              "      <td>33</td>\n",
              "      <td>1</td>\n",
              "    </tr>\n",
              "    <tr>\n",
              "      <th>...</th>\n",
              "      <td>...</td>\n",
              "      <td>...</td>\n",
              "      <td>...</td>\n",
              "      <td>...</td>\n",
              "      <td>...</td>\n",
              "      <td>...</td>\n",
              "      <td>...</td>\n",
              "      <td>...</td>\n",
              "      <td>...</td>\n",
              "    </tr>\n",
              "    <tr>\n",
              "      <th>763</th>\n",
              "      <td>10</td>\n",
              "      <td>101</td>\n",
              "      <td>76</td>\n",
              "      <td>48</td>\n",
              "      <td>180</td>\n",
              "      <td>32.9</td>\n",
              "      <td>0.171</td>\n",
              "      <td>63</td>\n",
              "      <td>0</td>\n",
              "    </tr>\n",
              "    <tr>\n",
              "      <th>764</th>\n",
              "      <td>2</td>\n",
              "      <td>122</td>\n",
              "      <td>70</td>\n",
              "      <td>27</td>\n",
              "      <td>0</td>\n",
              "      <td>36.8</td>\n",
              "      <td>0.340</td>\n",
              "      <td>27</td>\n",
              "      <td>0</td>\n",
              "    </tr>\n",
              "    <tr>\n",
              "      <th>765</th>\n",
              "      <td>5</td>\n",
              "      <td>121</td>\n",
              "      <td>72</td>\n",
              "      <td>23</td>\n",
              "      <td>112</td>\n",
              "      <td>26.2</td>\n",
              "      <td>0.245</td>\n",
              "      <td>30</td>\n",
              "      <td>0</td>\n",
              "    </tr>\n",
              "    <tr>\n",
              "      <th>766</th>\n",
              "      <td>1</td>\n",
              "      <td>126</td>\n",
              "      <td>60</td>\n",
              "      <td>0</td>\n",
              "      <td>0</td>\n",
              "      <td>30.1</td>\n",
              "      <td>0.349</td>\n",
              "      <td>47</td>\n",
              "      <td>1</td>\n",
              "    </tr>\n",
              "    <tr>\n",
              "      <th>767</th>\n",
              "      <td>1</td>\n",
              "      <td>93</td>\n",
              "      <td>70</td>\n",
              "      <td>31</td>\n",
              "      <td>0</td>\n",
              "      <td>30.4</td>\n",
              "      <td>0.315</td>\n",
              "      <td>23</td>\n",
              "      <td>0</td>\n",
              "    </tr>\n",
              "  </tbody>\n",
              "</table>\n",
              "<p>768 rows × 9 columns</p>\n",
              "</div>"
            ],
            "text/plain": [
              "     Pregnancies  Glucose  ...  Age  Outcome\n",
              "0              6      148  ...   50        1\n",
              "1              1       85  ...   31        0\n",
              "2              8      183  ...   32        1\n",
              "3              1       89  ...   21        0\n",
              "4              0      137  ...   33        1\n",
              "..           ...      ...  ...  ...      ...\n",
              "763           10      101  ...   63        0\n",
              "764            2      122  ...   27        0\n",
              "765            5      121  ...   30        0\n",
              "766            1      126  ...   47        1\n",
              "767            1       93  ...   23        0\n",
              "\n",
              "[768 rows x 9 columns]"
            ]
          },
          "metadata": {
            "tags": []
          },
          "execution_count": 4
        }
      ]
    },
    {
      "cell_type": "code",
      "metadata": {
        "id": "7AOMVx-ckoS6"
      },
      "source": [
        "#from sklearn.preprocessing import StandardScaler #standardisasi\n",
        "from sklearn.preprocessing import MinMaxScaler #normalisasi\n",
        "\n",
        "def scale(data):\n",
        "  #ss = StandardScaler()\n",
        "  #ss.fit(data)\n",
        "  #datascale = ss.transform(data)\n",
        "\n",
        "  ss = MinMaxScaler(feature_range=(0, 1))\n",
        "  datascale = ss.fit_transform(data)\n",
        "\n",
        "  dataa = pd.DataFrame(datascale)\n",
        "  dataa = dataa.rename(columns={0:'Pregnancies',1:'Glucose',2:'BloodPressure',3:'SkinThickness',4:'Insulin',5:'BMI',6:'DiabetesPedigreeFunction',7:'Age',8:'Outcome'})\n",
        "\n",
        "  print('data = ', dataa)\n",
        "  return dataa\n",
        ""
      ],
      "execution_count": null,
      "outputs": []
    },
    {
      "cell_type": "code",
      "metadata": {
        "colab": {
          "base_uri": "https://localhost:8080/"
        },
        "id": "pk7S5-JXwm3i",
        "outputId": "aaa54b82-090e-4274-fb29-1cb874c4a0e1"
      },
      "source": [
        "dataa = scale(data)"
      ],
      "execution_count": null,
      "outputs": [
        {
          "output_type": "stream",
          "text": [
            "data =       Pregnancies   Glucose  ...       Age  Outcome\n",
            "0       0.352941  0.743719  ...  0.483333      1.0\n",
            "1       0.058824  0.427136  ...  0.166667      0.0\n",
            "2       0.470588  0.919598  ...  0.183333      1.0\n",
            "3       0.058824  0.447236  ...  0.000000      0.0\n",
            "4       0.000000  0.688442  ...  0.200000      1.0\n",
            "..           ...       ...  ...       ...      ...\n",
            "763     0.588235  0.507538  ...  0.700000      0.0\n",
            "764     0.117647  0.613065  ...  0.100000      0.0\n",
            "765     0.294118  0.608040  ...  0.150000      0.0\n",
            "766     0.058824  0.633166  ...  0.433333      1.0\n",
            "767     0.058824  0.467337  ...  0.033333      0.0\n",
            "\n",
            "[768 rows x 9 columns]\n"
          ],
          "name": "stdout"
        }
      ]
    },
    {
      "cell_type": "code",
      "metadata": {
        "colab": {
          "base_uri": "https://localhost:8080/"
        },
        "id": "IQW_OrV2oX2t",
        "outputId": "65f0a8eb-fd44-495e-c621-85a66ded9015"
      },
      "source": [
        "#Baris ke-1 sampai baris ke-614 sebagai training set dan sisanya sebagai testing set;\n",
        "datatrain1 = dataa.iloc[0:613]\n",
        "datatest1 = dataa.iloc[614:767]\n",
        "print('Panjang data train 1 :',len(datatrain1))\n",
        "print('Panjang data test 1 :',len(datatest1))\n",
        "print()\n",
        "\n",
        "#Baris ke-1 sampai baris ke-461 ditambah baris ke-615 sampai 768 sebagai training set dan yang lain sebagai testing set;\n",
        "datatrain21 = dataa.iloc[0:460]\n",
        "datatrain22 = dataa.iloc[614:767]\n",
        "datatrain2 = pd.concat([datatrain21, datatrain22])\n",
        "datatest2 = dataa.iloc[461:640]\n",
        "print('Panjang data train 2 :',len(datatrain2))\n",
        "print('Panjang data test 2 :',len(datatest2))\n",
        "print()\n",
        "\n",
        "#Baris ke-1 sampai baris ke-307 ditambah baris ke-462 sampai 768 sebagai training set dan yang lain sebagai testing set;\n",
        "datatrain31 = dataa.iloc[0:306]\n",
        "datatrain32 = dataa.iloc[461:767]\n",
        "datatrain3 = pd.concat([datatrain31, datatrain32])\n",
        "datatest3 = dataa.iloc[307:460]\n",
        "print('Panjang data train 3 :',len(datatrain3))\n",
        "print('Panjang data test 3 :',len(datatest3))\n",
        "print()\n",
        "\n",
        "#Baris ke-1 sampai baris ke-154 ditambah baris ke-308 sampai 768 sebagai training set dan yang lain sebagai testing set; dan\n",
        "datatrain41 = dataa.iloc[0:153]\n",
        "datatrain42 = dataa.iloc[307:767]\n",
        "datatrain4 = pd.concat([datatrain41, datatrain42])\n",
        "datatest4 = dataa.iloc[154:306]\n",
        "print('Panjang data train 4 :',len(datatrain4))\n",
        "print('Panjang data test 4 :',len(datatest4))\n",
        "print()\n",
        "\n",
        "#Baris ke-155 sampai sampai 768 sebagai training set dan yang lain sebagai testing set.\n",
        "datatrain5 = dataa.iloc[154:767]\n",
        "datatest5 = dataa.iloc[0:153]\n",
        "print('Panjang data train 5 :',len(datatrain5))\n",
        "print('Panjang data test 5 :',len(datatest5))\n",
        "print()"
      ],
      "execution_count": null,
      "outputs": [
        {
          "output_type": "stream",
          "text": [
            "Panjang data train 1 : 613\n",
            "Panjang data test 1 : 153\n",
            "\n",
            "Panjang data train 2 : 613\n",
            "Panjang data test 2 : 179\n",
            "\n",
            "Panjang data train 3 : 612\n",
            "Panjang data test 3 : 153\n",
            "\n",
            "Panjang data train 4 : 613\n",
            "Panjang data test 4 : 152\n",
            "\n",
            "Panjang data train 5 : 613\n",
            "Panjang data test 5 : 153\n",
            "\n"
          ],
          "name": "stdout"
        }
      ]
    },
    {
      "cell_type": "code",
      "metadata": {
        "id": "xS5Q41aJSPh5"
      },
      "source": [
        "import math\n",
        "\n",
        "def euclidean(train, test):\n",
        "  x1 = train[0] - test[0]\n",
        "  x2 = train[1] - test[1]\n",
        "  x3 = train[2] - test[2]\n",
        "  x4 = train[3] - test[3]\n",
        "  x5 = train[4] - test[4]\n",
        "\n",
        "  x1x2 = np.hypot(x1,x2)\n",
        "  x3x4 = np.hypot(x3,x4)\n",
        "  a = np.hypot(x1x2,x3x4)\n",
        "\n",
        "  return np.hypot(a,x5)\n",
        "\n",
        "  #distance = 0\n",
        "  #for x in range(length):\n",
        "    #distance += pow((train[x] - test[x]), 2)\n",
        "    #distance += np.sum(np.square(train[x] - test[x]))\n",
        "\n",
        "  #return math.sqrt(distance)"
      ],
      "execution_count": null,
      "outputs": []
    },
    {
      "cell_type": "code",
      "metadata": {
        "id": "THtL0M-FS5lo"
      },
      "source": [
        "def getNeighbors(train, test):\n",
        "  neighbors = []\n",
        "  temp = []\n",
        "  #length = len(test)-1\n",
        "\n",
        "  for i in range(0,len(test)):\n",
        "    for j in range(0,len(train)):\n",
        "      temp.append([euclidean(train[j], test[i]), train[j][8]])\n",
        "    neighbors.append(temp)\n",
        "    temp = []\n",
        "\n",
        "  #return neighbors\n",
        "\n",
        "  #distances = []\n",
        "  #length = len(test)-1\n",
        "  #for x in range(len(train)):\n",
        "  #  dist = euclidean(train[x], test, length)\n",
        "  #  distances.append((train[x], dist))\n",
        "  #distances.sort(key=operator.itemgetter(1))\n",
        "  #neighbors = []\n",
        "  #for x in range(k):\n",
        "  #  neighbors.append(distances[x][0])\n",
        "\n",
        "  return neighbors"
      ],
      "execution_count": null,
      "outputs": []
    },
    {
      "cell_type": "code",
      "metadata": {
        "id": "5kVm9w0xdhon"
      },
      "source": [
        "def getKNN(neighbors, k):\n",
        "  temp = []\n",
        "  knn = []\n",
        "\n",
        "  def IndexSort(data):\n",
        "    return data[0]\n",
        "\n",
        "  for i in range(len(neighbors)):\n",
        "    neighbors[i].sort(key = IndexSort)\n",
        "\n",
        "  for i in range(len(neighbors)):\n",
        "    for j in range(0,k):\n",
        "      temp.append(neighbors[i][j])\n",
        "    knn.append(temp)\n",
        "    temp = []\n",
        "\n",
        "  return knn"
      ],
      "execution_count": null,
      "outputs": []
    },
    {
      "cell_type": "code",
      "metadata": {
        "id": "2lQoSiqEeWQb"
      },
      "source": [
        "from collections import Counter\n",
        "\n",
        "def prediksi(train,test,k):\n",
        "  jarak = getNeighbors(train,test)\n",
        "  neighbors1 = getKNN(jarak,k)\n",
        "\n",
        "  neighbors2 = []\n",
        "  temp = []\n",
        "  for i in range(len(neighbors1)):\n",
        "    for j in range(len(neighbors1[i])):\n",
        "      temp.append(neighbors1[i][j][1])\n",
        "    neighbors2.append(temp)\n",
        "    temp = []\n",
        "\n",
        "  hasil = []\n",
        "  for i in range(len(neighbors2)):\n",
        "    data = Counter(neighbors2[i])\n",
        "    hasil.append(data.most_common(1)[0][0])\n",
        "\n",
        "  return hasil"
      ],
      "execution_count": null,
      "outputs": []
    },
    {
      "cell_type": "code",
      "metadata": {
        "id": "gxfvGr9qf1Bf"
      },
      "source": [
        "def getAccuracy(test, prediction):\n",
        "  testSet = test['Outcome'].values.tolist()\n",
        "  correct = 0\n",
        "  for x in range(len(prediction)):\n",
        "    if testSet[x] == prediction[x]:\n",
        "      correct += 1\n",
        "\n",
        "  return (correct/float(len(testSet))) * 100.0"
      ],
      "execution_count": null,
      "outputs": []
    },
    {
      "cell_type": "code",
      "metadata": {
        "id": "0EXQAMGmgpFp"
      },
      "source": [
        "def splitValidation(train,test):\n",
        "    data1 = train.to_numpy()\n",
        "    data2 = test.to_numpy()\n",
        "\n",
        "    k = []\n",
        "    for i in range(len(data2)):\n",
        "        k.append((getAccuracy(test,prediksi(data1,data2,i+1))))\n",
        "\n",
        "    return [k.index(max(k)), max(k)]"
      ],
      "execution_count": null,
      "outputs": []
    },
    {
      "cell_type": "code",
      "metadata": {
        "colab": {
          "base_uri": "https://localhost:8080/"
        },
        "id": "npjflOKIg_J_",
        "outputId": "39c49039-f719-4fb5-ba1b-6e46d1aae894"
      },
      "source": [
        "CrossVal = splitValidation(datatrain1,datatest1)\n",
        "print(\"Dataset 1\")\n",
        "print(\"K :\",CrossVal[0])\n",
        "print(\"Accuracy :\", CrossVal[1])\n",
        "\n",
        "CrossVal = splitValidation(datatrain2,datatest2)\n",
        "print(\"Dataset 2\")\n",
        "print(\"K :\",CrossVal[0])\n",
        "print(\"Accuracy :\", CrossVal[1])\n",
        "\n",
        "CrossVal = splitValidation(datatrain3,datatest3)\n",
        "print(\"Dataset 3\")\n",
        "print(\"K :\",CrossVal[0])\n",
        "print(\"Accuracy :\", CrossVal[1])\n",
        "\n",
        "CrossVal = splitValidation(datatrain4,datatest4)\n",
        "print(\"Dataset 4\")\n",
        "print(\"K : \",CrossVal[0])\n",
        "print(\"Accuracy :\", CrossVal[1])\n",
        "\n",
        "CrossVal = splitValidation(datatrain5,datatest5)\n",
        "print(\"Dataset 5\")\n",
        "print(\"K :\",CrossVal[0])\n",
        "print(\"Accuracy :\", CrossVal[1])"
      ],
      "execution_count": null,
      "outputs": [
        {
          "output_type": "stream",
          "text": [
            "Dataset 1\n",
            "K : 27\n",
            "Accuracy : 75.81699346405229\n",
            "Dataset 2\n",
            "K : 18\n",
            "Accuracy : 83.79888268156425\n",
            "Dataset 3\n",
            "K : 59\n",
            "Accuracy : 75.81699346405229\n",
            "Dataset 4\n",
            "K :  2\n",
            "Accuracy : 68.42105263157895\n",
            "Dataset 5\n",
            "K : 7\n",
            "Accuracy : 78.43137254901961\n"
          ],
          "name": "stdout"
        }
      ]
    }
  ]
}